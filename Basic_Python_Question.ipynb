{
  "nbformat": 4,
  "nbformat_minor": 0,
  "metadata": {
    "colab": {
      "provenance": [],
      "toc_visible": true
    },
    "kernelspec": {
      "name": "python3",
      "display_name": "Python 3"
    },
    "language_info": {
      "name": "python"
    }
  },
  "cells": [
    {
      "cell_type": "markdown",
      "source": [
        "# Python Basics Questions"
      ],
      "metadata": {
        "id": "SGqTFgq0C16z"
      }
    },
    {
      "cell_type": "markdown",
      "source": [
        "1. #What is Python, and why is it popular?\n",
        "\n",
        "    - Python is a high-level, interpreted programming language known for its simplicity, readability, and versatility. It was created by Guido van Rossum and first released in 1991.\n",
        "    - Python is popular because it combines ease of use, versatility, and strong community support\n",
        "\n",
        "      * Easy to Learn\n",
        "      * Versatile\n",
        "      * Strong Community Support\n",
        "      * Rich Ecosystem\n",
        "      * Adoption by Big Tech."
      ],
      "metadata": {
        "id": "rJ9Kyt3SC9QM"
      }
    },
    {
      "cell_type": "markdown",
      "source": [
        "2. #What is an interpreter in Python?\n",
        "\n",
        "    - In Python, an interpreter is the program that executes Python code line by line. Unlike compiled languages (like C or Java), where the source code is first converted into machine code, Python directly runs through its interpreter.\n",
        "    - Example:-\n",
        "      * print(\"Hello, World!\")\n",
        "      * Hello, World!    #output"
      ],
      "metadata": {
        "id": "I7asJboREBQA"
      }
    },
    {
      "cell_type": "markdown",
      "source": [
        "3. #What are pre-defined keywords in Python?\n",
        "    - In Python, pre-defined keywords are reserved words that have a special meaning to the language and cannot be used as variable names, function names, or identifiers. They are the building blocks of Python syntax.\n",
        "    - Code to print all the pre-defined keywords:-\n",
        "        * import keyword\n",
        "        * print(keyword.kwlist)"
      ],
      "metadata": {
        "id": "lHgwcupvE9S5"
      }
    },
    {
      "cell_type": "markdown",
      "source": [
        "4. #Can keywords be used as variable names?\n",
        "    - No, keywords cannot be used as variable names in Python. They are reserved words with a predefined meaning in the language, so using them as identifiers will cause a syntax error.\n",
        "    - Example:\n",
        "        * if = 10        #This will cause an error\n",
        "        * for = \"hello\"  #This will also cause an error"
      ],
      "metadata": {
        "id": "RQhZRbCgFufp"
      }
    },
    {
      "cell_type": "markdown",
      "source": [
        "5. #What is mutability in Python?\n",
        "    - In Python, mutability refers to whether an object’s value can be changed after it is created.\n",
        "    - **Example:-**\n",
        "        * my_list = [1, 2, 3]\n",
        "        * my_list[5] = 10  #Lets changes the first element\n",
        "        * print(my_list)   # Output: [5, 2, 3]\n"
      ],
      "metadata": {
        "id": "JOUJGwJlGInM"
      }
    },
    {
      "cell_type": "markdown",
      "source": [
        "6. #Why are lists mutable, but tuples are immutable?\n",
        "    - **Lists (Mutable)**\n",
        "      * Designed for flexibility: You can add, remove, or change elements.\n",
        "      * Useful when you need a dynamic collection of items that can change over time.\n",
        "      * Stored in memory in a way that allows in-place modification.\n",
        "\n",
        "    - **Tuples (Immutable)**\n",
        "      * Designed for stability: Once created, the contents cannot change.\n",
        "      * Useful when you want a fixed collection of items (like coordinates, or dictionary keys).\n",
        "      * Immutability allows hashing, so tuples can be used as dictionary keys or in sets, which lists cannot.\n",
        "\n",
        "\n",
        "\n",
        "\n",
        "\n",
        "\n",
        "\n",
        "\n",
        "\n",
        "\n",
        "\n"
      ],
      "metadata": {
        "id": "lRl9U_urGyck"
      }
    },
    {
      "cell_type": "markdown",
      "source": [
        "7. #What is the difference between “==” and “is” operators in Python?\n",
        "\n",
        "    - **\"==\" (Equality Operator)**\n",
        "      * Checks if the values of two objects are equal.\n",
        "      * Compares contents, not memory locations.\n",
        "\n",
        "    - **\"is\" (Identity Operator)**\n",
        "      * Checks if two objects are the same object in memory.\n",
        "      * Compares memory addresses, not just values.\n",
        "\n",
        "\n",
        "\n",
        "\n"
      ],
      "metadata": {
        "id": "JO2eFQJ3HiF-"
      }
    },
    {
      "cell_type": "markdown",
      "source": [
        "8. #What are logical operators in Python?\n",
        "\n",
        "    - In Python, Logical operators (and, or, not) are used to combine or invert conditions in Python and always return a Boolean value (True or False).\n",
        "    - **Example:-**\n",
        "      * x = 10\n",
        "      * y = 5\n",
        "      * print(x > 0 and y < 10)  # Output>>True\n",
        "      * print(x < 0 or y < 10)   # Output>>True\n",
        "      * print(not (x > 0))       # Output>>False"
      ],
      "metadata": {
        "id": "Ah59QKfoIVpI"
      }
    },
    {
      "cell_type": "markdown",
      "source": [
        "9. #What is type casting in Python?\n",
        "    - In Python, type casting (or type conversion) is the process of converting a value from one data type to another. This is useful when you need to perform operations between different types or ensure data is in the correct format\n",
        "    - **Example:-**\n",
        "      * x = 5       # int\n",
        "      * y = 2.5     # float\n",
        "      * z = x + y   # int is converted to float automatically\n",
        "      * print(z)    # Output: 7.5"
      ],
      "metadata": {
        "id": "6ptUWvkjJD6s"
      }
    },
    {
      "cell_type": "markdown",
      "source": [
        "10. #What is the difference between implicit and explicit type casting?\n",
        "    - implicit and explicit type casting in Python lies in who performs the conversion and how it happens.\n",
        "      * Implicit: automatic, safe conversion by Python.\n",
        "      * Explicit: manual conversion controlled by the programmer.\n",
        "\n",
        "\n"
      ],
      "metadata": {
        "id": "lG9mikryJ3XJ"
      }
    },
    {
      "cell_type": "markdown",
      "source": [
        "11. #What is the purpose of conditional statements in Python?\n",
        "    - In Python, conditional statements are used to make decisions in code based on certain conditions. They allow the program to execute different blocks of code depending on whether a condition is True or False.\n",
        "    - Purpose of Conditional Statements:-\n",
        "      * Control the flow of the program,\n",
        "      * Perform actions based on conditions,\n",
        "      * Enable decision-making in programs\n"
      ],
      "metadata": {
        "id": "n8eIQZg3KeYf"
      }
    },
    {
      "cell_type": "markdown",
      "source": [
        "12. #How does the elif statement work?\n",
        "    - The elif statement allows Python to check multiple conditions in order and execute only the first block whose condition is True, making decision-making cleaner and more readable.\n",
        "    - **How elif Works**\n",
        "        * Python evaluates the first if condition.\n",
        "        * If it is True, Python executes that block and skips all remaining elif and else blocks.\n",
        "        * If the if condition is False, Python checks the first elif condition, then the next, and so on.\n",
        "        * If none of the if or elif conditions are True, Python executes the else block (if present).\n",
        "\n",
        "\n",
        "\n",
        "\n",
        "\n",
        "\n"
      ],
      "metadata": {
        "id": "yByfikiqK8hH"
      }
    },
    {
      "cell_type": "markdown",
      "source": [
        "13. # What is the difference between for and while loops?\n",
        "    - **for Loop**\n",
        "      * Used when you know exactly how many times you want to iterate.\n",
        "      * Iterates over a sequence like a list, tuple, string, or range.\n",
        "      * Syntax: (for item in sequence:)\n",
        "    - **While Loop**\n",
        "      * Used when you don’t know how many times you need to repeat, but continue until a condition becomes False.\n",
        "      * Syntax: (while condition:)\n",
        "\n",
        "\n",
        "\n",
        "\n"
      ],
      "metadata": {
        "id": "i-GWRy0bLjPc"
      }
    },
    {
      "cell_type": "markdown",
      "source": [
        "14. #Describe a scenario where a while loop is more suitable than a for loop.\n",
        "\n",
        "    - while loop is more suitable than a for loop when the number of iterations is not known in advance and depends on a condition being met during execution.\n",
        "    - **scenario:-**\n",
        "      * correct_password = \"python123\"\n",
        "      * user_input = \"\"\n",
        "      * while user_input != correct_password:\n",
        "      * user_input = input(\"Enter password: \")\n",
        "      * if user_input == correct_password:\n",
        "      * print(\"Access granted!\")\n",
        "      * else:\n",
        "      * print(\"Incorrect password, try again.\")\n"
      ],
      "metadata": {
        "id": "uXN5miy2Ml_n"
      }
    }
  ]
}
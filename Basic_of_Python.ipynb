{
  "cells": [
    {
      "cell_type": "markdown",
      "source": [],
      "metadata": {
        "id": "AzHVkdCtR418"
      },
      "id": "AzHVkdCtR418"
    },
    {
      "cell_type": "markdown",
      "source": [
        "# Basic Python Question"
      ],
      "metadata": {
        "id": "5wDWq2L-EJxv"
      },
      "id": "5wDWq2L-EJxv"
    },
    {
      "cell_type": "markdown",
      "source": [
        "1. #What is Python, and why is it popular?\n",
        "\n",
        "    - Python is a high-level, interpreted programming language known for its simplicity, readability, and versatility. It was created by Guido van Rossum and first released in 1991.\n",
        "\n",
        "    - Python is popular because it combines ease of use, versatility, and strong community support\n",
        "\n",
        "      * Easy to Learn\n",
        "      * Versatile\n",
        "      * Strong Community Support\n",
        "      * Rich Ecosystem\n",
        "      * Adoption by Big Tech."
      ],
      "metadata": {
        "id": "97fKGyVMEITm"
      },
      "id": "97fKGyVMEITm"
    },
    {
      "cell_type": "markdown",
      "source": [
        "2. #What is an interpreter in Python?\n",
        "\n",
        "    - In Python, an interpreter is the program that executes Python code line by line. Unlike compiled languages (like C or Java), where the source code is first converted into machine code, Python directly runs through its interpreter.\n",
        "    - Example:-\n",
        "      * print(\"Hello, World!\")\n",
        "      * Hello, World!    #output"
      ],
      "metadata": {
        "id": "jz_ovEOyEoAT"
      },
      "id": "jz_ovEOyEoAT"
    },
    {
      "cell_type": "markdown",
      "source": [
        "3. #What are pre-defined keywords in Python?\n",
        "    - In Python, pre-defined keywords are reserved words that have a special meaning to the language and cannot be used as variable names, function names, or identifiers. They are the building blocks of Python syntax.\n",
        "    - Code to print all the pre-defined keywords:-\n",
        "        * import keyword\n",
        "        * print(keyword.kwlist)"
      ],
      "metadata": {
        "id": "ob1O8Ss3Era6"
      },
      "id": "ob1O8Ss3Era6"
    },
    {
      "cell_type": "markdown",
      "source": [
        "4. #Can keywords be used as variable names?\n",
        "    - No, keywords cannot be used as variable names in Python. They are reserved words with a predefined meaning in the language, so using them as identifiers will cause a syntax error.\n",
        "    - Example:\n",
        "        * if = 10        #This will cause an error\n",
        "        * for = \"hello\"  #This will also cause an error"
      ],
      "metadata": {
        "id": "7G8x5dmnEuMo"
      },
      "id": "7G8x5dmnEuMo"
    },
    {
      "cell_type": "markdown",
      "source": [
        "5. #What is mutability in Python?\n",
        "    - In Python, mutability refers to whether an object’s value can be changed after it is created.\n",
        "    - **Example:-**\n",
        "        * my_list = [1, 2, 3]\n",
        "        * my_list[5] = 10  #Lets changes the first element\n",
        "        * print(my_list)   # Output: [5, 2, 3]\n"
      ],
      "metadata": {
        "id": "9HHSRRqLEykW"
      },
      "id": "9HHSRRqLEykW"
    },
    {
      "cell_type": "markdown",
      "source": [
        "6. #Why are lists mutable, but tuples are immutable?\n",
        "    - **Lists (Mutable)**\n",
        "      * Designed for flexibility: You can add, remove, or change elements.\n",
        "      * Useful when you need a dynamic collection of items that can change over time.\n",
        "      * Stored in memory in a way that allows in-place modification.\n",
        "\n",
        "    - **Tuples (Immutable)**\n",
        "      * Designed for stability: Once created, the contents cannot change.\n",
        "      * Useful when you want a fixed collection of items (like coordinates, or dictionary keys).\n",
        "      * Immutability allows hashing, so tuples can be used as dictionary keys or in sets, which lists cannot.\n"
      ],
      "metadata": {
        "id": "hzd2_HlBEzoP"
      },
      "id": "hzd2_HlBEzoP"
    },
    {
      "cell_type": "markdown",
      "source": [
        "7. #What is the difference between “==” and “is” operators in Python?\n",
        "\n",
        "    - **\"==\" (Equality Operator)**\n",
        "      * Checks if the values of two objects are equal.\n",
        "      * Compares contents, not memory locations.\n",
        "\n",
        "    - **\"is\" (Identity Operator)**\n",
        "      * Checks if two objects are the same object in memory.\n",
        "      * Compares memory addresses, not just values.\n",
        "\n"
      ],
      "metadata": {
        "id": "WLcrC1moE14m"
      },
      "id": "WLcrC1moE14m"
    },
    {
      "cell_type": "markdown",
      "source": [
        "8. #What are logical operators in Python?\n",
        "\n",
        "    - In Python, Logical operators (and, or, not) are used to combine or invert conditions in Python and always return a Boolean value (True or False).\n",
        "    - **Example:-**\n",
        "      * x = 10\n",
        "      * y = 5\n",
        "      * print(x > 0 and y < 10)  # Output>>True\n",
        "      * print(x < 0 or y < 10)   # Output>>True\n",
        "      * print(not (x > 0))       # Output>>False"
      ],
      "metadata": {
        "id": "ljUYZj_YE5-0"
      },
      "id": "ljUYZj_YE5-0"
    },
    {
      "cell_type": "markdown",
      "source": [
        "9. #What is type casting in Python?\n",
        "    - In Python, type casting (or type conversion) is the process of converting a value from one data type to another. This is useful when you need to perform operations between different types or ensure data is in the correct format\n",
        "    - **Example:-**\n",
        "      * x = 5       # int\n",
        "      * y = 2.5     # float\n",
        "      * z = x + y   # int is converted to float automatically\n",
        "      * print(z)    # Output: 7.5"
      ],
      "metadata": {
        "id": "6jk0GkDzE-Nz"
      },
      "id": "6jk0GkDzE-Nz"
    },
    {
      "cell_type": "markdown",
      "source": [
        "10. #What is the difference between implicit and explicit type casting?\n",
        "    - implicit and explicit type casting in Python lies in who performs the conversion and how it happens.\n",
        "      * Implicit: automatic, safe conversion by Python.\n",
        "      * Explicit: manual conversion controlled by the programmer."
      ],
      "metadata": {
        "id": "mxi2Kbg6FAph"
      },
      "id": "mxi2Kbg6FAph"
    },
    {
      "cell_type": "markdown",
      "source": [
        "11. #What is the purpose of conditional statements in Python?\n",
        "    - In Python, conditional statements are used to make decisions in code based on certain conditions. They allow the program to execute different blocks of code depending on whether a condition is True or False.\n",
        "    - Purpose of Conditional Statements:-\n",
        "      * Control the flow of the program,\n",
        "      * Perform actions based on conditions,\n",
        "      * Enable decision-making in programs\n"
      ],
      "metadata": {
        "id": "BvLYVg4mFDKw"
      },
      "id": "BvLYVg4mFDKw"
    },
    {
      "cell_type": "markdown",
      "source": [
        "12. #How does the elif statement work?\n",
        "    - The elif statement allows Python to check multiple conditions in order and execute only the first block whose condition is True, making decision-making cleaner and more readable.\n",
        "    - **How elif Works**\n",
        "        * Python evaluates the first if condition.\n",
        "        * If it is True, Python executes that block and skips all remaining elif and else blocks.\n",
        "        * If the if condition is False, Python checks the first elif condition, then the next, and so on.\n",
        "        * If none of the if or elif conditions are True, Python executes the else block (if present).\n",
        "\n"
      ],
      "metadata": {
        "id": "nv_eLJrPFFpY"
      },
      "id": "nv_eLJrPFFpY"
    },
    {
      "cell_type": "markdown",
      "source": [
        "13. # What is the difference between for and while loops?\n",
        "    - **for Loop**\n",
        "      * Used when you know exactly how many times you want to iterate.\n",
        "      * Iterates over a sequence like a list, tuple, string, or range.\n",
        "      * Syntax: (for item in sequence:)\n",
        "    - **While Loop**\n",
        "      * Used when you don’t know how many times you need to repeat, but continue until a condition becomes False.\n",
        "      * Syntax: (while condition:)"
      ],
      "metadata": {
        "id": "6M5tym-GFIDX"
      },
      "id": "6M5tym-GFIDX"
    },
    {
      "cell_type": "markdown",
      "source": [
        "14. #Describe a scenario where a while loop is more suitable than a for loop.\n",
        "\n",
        "    - while loop is more suitable than a for loop when the number of iterations is not known in advance and depends on a condition being met during execution.\n",
        "    - **scenario:-**\n",
        "      * correct_password = \"python123\"\n",
        "      * user_input = \"\"\n",
        "      * while user_input != correct_password:\n",
        "      * user_input = input(\"Enter password: \")\n",
        "      * if user_input == correct_password:\n",
        "      * print(\"Access granted!\")\n",
        "      * else:\n",
        "      * print(\"Incorrect password, try again.\")\n"
      ],
      "metadata": {
        "id": "lbLhVhJ5FLkm"
      },
      "id": "lbLhVhJ5FLkm"
    },
    {
      "cell_type": "markdown",
      "source": [
        "# Practical Question"
      ],
      "metadata": {
        "id": "XTeqVjtzR5VX"
      },
      "id": "XTeqVjtzR5VX"
    },
    {
      "cell_type": "code",
      "execution_count": null,
      "id": "efeb23f4-c7d3-4067-98dc-329e623cacaa",
      "metadata": {
        "id": "efeb23f4-c7d3-4067-98dc-329e623cacaa",
        "outputId": "7216f45f-78d9-4bce-8b20-817b1fd75c9b"
      },
      "outputs": [
        {
          "data": {
            "text/plain": [
              "'hello world!'"
            ]
          },
          "execution_count": 4,
          "metadata": {},
          "output_type": "execute_result"
        }
      ],
      "source": [
        "#1.Write a python program to print hello world\n",
        "print = (\"hello world!\")\n",
        "print"
      ]
    },
    {
      "cell_type": "code",
      "execution_count": null,
      "id": "f41b4708",
      "metadata": {
        "id": "f41b4708",
        "outputId": "80f8a09c-1ff9-494c-b540-b4dac6a75f71"
      },
      "outputs": [
        {
          "data": {
            "text/plain": [
              "'i am Shriram Pandey, and my age is 24 years old.&my heights is 5.1 feet '"
            ]
          },
          "execution_count": 20,
          "metadata": {},
          "output_type": "execute_result"
        }
      ],
      "source": [
        "#2.Write a python program to print your name and age\n",
        "name = \"Shriram Pandey\"\n",
        "age= 24\n",
        "height=5.10\n",
        "print = (f\"i am {name}, and my age is {age} years old.&my heights is {height} feet \")\n",
        "print"
      ]
    },
    {
      "cell_type": "code",
      "execution_count": null,
      "id": "9be9bee1",
      "metadata": {
        "id": "9be9bee1",
        "outputId": "b804dd1a-350c-4810-b8dd-4ddf54f05b28"
      },
      "outputs": [
        {
          "data": {
            "text/plain": [
              "float"
            ]
          },
          "execution_count": 21,
          "metadata": {},
          "output_type": "execute_result"
        }
      ],
      "source": [
        "type(height)"
      ]
    },
    {
      "cell_type": "code",
      "execution_count": 1,
      "id": "c14e94b9",
      "metadata": {
        "id": "c14e94b9",
        "outputId": "0ab8e543-9a6e-4584-96bc-3d62839222fb",
        "colab": {
          "base_uri": "https://localhost:8080/"
        }
      },
      "outputs": [
        {
          "output_type": "stream",
          "name": "stdout",
          "text": [
            "['False', 'None', 'True', 'and', 'as', 'assert', 'async', 'await', 'break', 'class', 'continue', 'def', 'del', 'elif', 'else', 'except', 'finally', 'for', 'from', 'global', 'if', 'import', 'in', 'is', 'lambda', 'nonlocal', 'not', 'or', 'pass', 'raise', 'return', 'try', 'while', 'with', 'yield']\n"
          ]
        }
      ],
      "source": [
        "#3. write code to pint all the pre-defined keywords in python using the keyword library\n",
        "import keyword\n",
        "print(keyword.kwlist)"
      ]
    },
    {
      "cell_type": "code",
      "execution_count": null,
      "id": "6a77feac",
      "metadata": {
        "id": "6a77feac",
        "outputId": "5f051334-952a-40de-8289-f1f3d2877ed1"
      },
      "outputs": [
        {
          "data": {
            "text/plain": [
              "<function print(*args, sep=' ', end='\\n', file=None, flush=False)>"
            ]
          },
          "execution_count": 4,
          "metadata": {},
          "output_type": "execute_result"
        }
      ],
      "source": [
        "#4. write a program that checks if a given word is a python keyword.\n",
        "import keyword\n",
        "\n",
        "def is_python_keyword(word):\n",
        "    return keyword.iskeyword(word)\n",
        "print"
      ]
    },
    {
      "cell_type": "code",
      "execution_count": null,
      "id": "54d6b54e",
      "metadata": {
        "id": "54d6b54e",
        "outputId": "a84f6039-3219-4e70-a7cc-82b8d06b25c7"
      },
      "outputs": [
        {
          "name": "stdout",
          "output_type": "stream",
          "text": [
            "'ram' is NOT a Python keyword.\n"
          ]
        }
      ],
      "source": [
        "word = input(\"Enter a word: \")\n",
        "\n",
        "if is_python_keyword(word):\n",
        "    print(f\"'{word}' is a Python keyword.\")\n",
        "else:\n",
        "    print(f\"'{word}' is NOT a Python keyword.\")\n",
        "\n"
      ]
    },
    {
      "cell_type": "code",
      "execution_count": null,
      "id": "0929de03",
      "metadata": {
        "id": "0929de03"
      },
      "outputs": [],
      "source": [
        "#5. Create a list and tuple in Python, and demonstrate how attempting to change an element works differently for each\n",
        "\n",
        "\n",
        "# Creating a list and a tuple\n",
        "my_list = [10, 20, 30]\n",
        "my_tuple = (10, 20, 30)\n",
        "\n"
      ]
    },
    {
      "cell_type": "code",
      "execution_count": null,
      "id": "27efa03d",
      "metadata": {
        "id": "27efa03d",
        "outputId": "5a47627f-03c8-414c-b30f-c2494f2cfc28"
      },
      "outputs": [
        {
          "name": "stdout",
          "output_type": "stream",
          "text": [
            "\n",
            "List after modification: [10, 200, 30]\n",
            "\n",
            "Error while modifying tuple: 'tuple' object does not support item assignment\n"
          ]
        }
      ],
      "source": [
        "\n",
        "# Modifying an element in the list\n",
        "my_list[1] = 200\n",
        "print(\"\\nList after modification:\", my_list)\n",
        "\n",
        "\n",
        "\n",
        "# Attempting to modify an element in the tuple (this will raise an error)\n",
        "try:\n",
        "    my_tuple[1] = 200\n",
        "except TypeError as e:\n",
        "    print(\"\\nError while modifying tuple:\", e)\n"
      ]
    },
    {
      "cell_type": "code",
      "execution_count": null,
      "id": "30de5190",
      "metadata": {
        "id": "30de5190"
      },
      "outputs": [],
      "source": [
        "#6. Write a function to demonstrate the behavior of mutable and immutable arguments\n",
        "def modify_arguments(a_number, a_list):\n",
        "    # Try modifying the number (immutable)\n",
        "    a_number += 10"
      ]
    },
    {
      "cell_type": "code",
      "execution_count": null,
      "id": "4b027361",
      "metadata": {
        "id": "4b027361"
      },
      "outputs": [],
      "source": [
        "  # Try modifying the list (mutable)\n",
        "    a_list.append(100)\n",
        "\n",
        "    print(\"Inside function:\")\n",
        "    print(\"a_number =\", a_number)\n",
        "    print(\"a_list =\", a_list)\n"
      ]
    },
    {
      "cell_type": "code",
      "execution_count": null,
      "id": "e9c00429",
      "metadata": {
        "id": "e9c00429",
        "outputId": "b243e0d6-41aa-4225-ab4a-75f35376bed3"
      },
      "outputs": [
        {
          "name": "stdout",
          "output_type": "stream",
          "text": [
            "Before function call:\n",
            "num = 5\n",
            "lst = [1, 2, 3]\n"
          ]
        }
      ],
      "source": [
        "num = 5\n",
        "lst = [1, 2, 3]\n",
        "\n",
        "print(\"Before function call:\")\n",
        "print(\"num =\", num)\n",
        "print(\"lst =\", lst)"
      ]
    },
    {
      "cell_type": "code",
      "execution_count": null,
      "id": "0bfac4de",
      "metadata": {
        "id": "0bfac4de",
        "outputId": "b1aa99c2-8602-4d92-b103-9e4c29ef7530"
      },
      "outputs": [
        {
          "name": "stdout",
          "output_type": "stream",
          "text": [
            "\n",
            "After function call:\n",
            "num = 5\n",
            "lst = [1, 2, 3]\n"
          ]
        }
      ],
      "source": [
        "print(\"\\nAfter function call:\")\n",
        "print(\"num =\", num)   # unchanged (immutable)\n",
        "print(\"lst =\", lst)   # changed (mutable)"
      ]
    },
    {
      "cell_type": "code",
      "execution_count": null,
      "id": "d7b3aae6",
      "metadata": {
        "id": "d7b3aae6"
      },
      "outputs": [],
      "source": [
        "#7. Write a program that performs basic arithmetic operations on two user-input numbers.\n",
        "def arithmetic_operations(num1, num2):\n",
        "    addition = num1 + num2\n",
        "    subtraction = num1 - num2\n",
        "    multiplication = num1 * num2\n",
        "    division = num1 / num2 if num2 != 0 else \"undefined (division by zero)\"\n",
        "\n",
        "    return addition, subtraction, multiplication, division"
      ]
    },
    {
      "cell_type": "code",
      "execution_count": null,
      "id": "b38d10fd",
      "metadata": {
        "id": "b38d10fd",
        "outputId": "f7aab7fd-736a-4ceb-a30c-0a8fdfd087d8"
      },
      "outputs": [
        {
          "name": "stdout",
          "output_type": "stream",
          "text": [
            "\n",
            "Demonstrating logical operators:\n"
          ]
        }
      ],
      "source": [
        "#8. Write a program to demonstrate the use of logical operators.\n",
        "# Taking user input\n",
        "x = int(input(\"Enter first number: \"))\n",
        "y = int(input(\"Enter second number: \"))\n",
        "print(\"\\nDemonstrating logical operators:\")"
      ]
    },
    {
      "cell_type": "code",
      "execution_count": null,
      "id": "e6704403",
      "metadata": {
        "id": "e6704403",
        "outputId": "2a5ce3c5-17a0-479f-8360-296a3468843d"
      },
      "outputs": [
        {
          "name": "stdout",
          "output_type": "stream",
          "text": [
            "(5 > 0) and (6 > 0) → True\n"
          ]
        }
      ],
      "source": [
        "# AND operator\n",
        "print(f\"({x} > 0) and ({y} > 0) → {(x > 0) and (y > 0)}\")"
      ]
    },
    {
      "cell_type": "code",
      "execution_count": null,
      "id": "833099f1",
      "metadata": {
        "id": "833099f1",
        "outputId": "dd69e6fe-cd3a-4a5e-f43f-80b7c933657e"
      },
      "outputs": [
        {
          "name": "stdout",
          "output_type": "stream",
          "text": [
            "(5 > 0) or (6 > 0) → True\n"
          ]
        }
      ],
      "source": [
        "# OR operator\n",
        "print(f\"({x} > 0) or ({y} > 0) → {(x > 0) or (y > 0)}\")"
      ]
    },
    {
      "cell_type": "code",
      "execution_count": null,
      "id": "9e3b7300",
      "metadata": {
        "id": "9e3b7300",
        "outputId": "cb182cca-2510-4d89-a5cb-0d3c5a5f016b"
      },
      "outputs": [
        {
          "name": "stdout",
          "output_type": "stream",
          "text": [
            "not(5 > 0) → False\n",
            "not(6 > 0) → False\n"
          ]
        }
      ],
      "source": [
        "# NOT operator\n",
        "print(f\"not({x} > 0) → {not(x > 0)}\")\n",
        "print(f\"not({y} > 0) → {not(y > 0)}\")"
      ]
    },
    {
      "cell_type": "code",
      "execution_count": null,
      "id": "791bc3fd",
      "metadata": {
        "id": "791bc3fd",
        "outputId": "285e5228-072d-4294-d61a-4e9ca45aaa80"
      },
      "outputs": [
        {
          "name": "stdout",
          "output_type": "stream",
          "text": [
            "\n",
            "Original input (string): ram\n"
          ]
        }
      ],
      "source": [
        "#9. Write a Python program to convert user input from string to integer, float, and boolean types.\n",
        "\n",
        "# Taking input as a string\n",
        "user_input = input(\"Enter your name: \")\n",
        "\n",
        "print(\"\\nOriginal input (string):\", user_input)\n"
      ]
    },
    {
      "cell_type": "code",
      "execution_count": null,
      "id": "3a0ee17d",
      "metadata": {
        "id": "3a0ee17d",
        "outputId": "0a41e09d-c94c-42f7-a29c-db1f43c50118"
      },
      "outputs": [
        {
          "name": "stdout",
          "output_type": "stream",
          "text": [
            "Cannot convert to integer.\n"
          ]
        }
      ],
      "source": [
        "# Convert to integer\n",
        "try:\n",
        "    int_value = int(user_input)\n",
        "    print(\"As integer:\", int_value)\n",
        "except ValueError:\n",
        "    print(\"Cannot convert to integer.\")\n"
      ]
    },
    {
      "cell_type": "code",
      "execution_count": null,
      "id": "b84e9c88",
      "metadata": {
        "id": "b84e9c88",
        "outputId": "e894b8be-bcd0-45c8-a033-698be0f8e670"
      },
      "outputs": [
        {
          "name": "stdout",
          "output_type": "stream",
          "text": [
            "Cannot convert to float.\n"
          ]
        }
      ],
      "source": [
        "# Convert to float\n",
        "try:\n",
        "    float_value = float(user_input)\n",
        "    print(\"As float:\", float_value)\n",
        "except ValueError:\n",
        "    print(\"Cannot convert to float.\")\n"
      ]
    },
    {
      "cell_type": "code",
      "execution_count": null,
      "id": "ca378d5e",
      "metadata": {
        "id": "ca378d5e",
        "outputId": "33ebcdf3-86c0-4dd7-972f-6217eb9653c2"
      },
      "outputs": [
        {
          "name": "stdout",
          "output_type": "stream",
          "text": [
            "As boolean: True\n"
          ]
        }
      ],
      "source": [
        "# Convert to boolean\n",
        "# Note: In Python, bool(\"\") → False, bool(\"anything\") → True\n",
        "bool_value = bool(user_input)\n",
        "print(\"As boolean:\", bool_value)"
      ]
    },
    {
      "cell_type": "code",
      "execution_count": null,
      "id": "0a283159",
      "metadata": {
        "id": "0a283159",
        "outputId": "23b74762-d005-4b45-b98b-4b4e34ffc402"
      },
      "outputs": [
        {
          "name": "stdout",
          "output_type": "stream",
          "text": [
            "Original list (strings): ['10', '20', '3.5', '0', '', 'True', 'False']\n"
          ]
        }
      ],
      "source": [
        "#10. Write code to demonstrate type casting with list elements.\n",
        "\n",
        "\n",
        "# Original list with strings\n",
        "\n",
        "\n",
        "data = [\"10\", \"20\", \"3.5\", \"0\", \"\", \"True\", \"False\"]\n",
        "\n",
        "print(\"Original list (strings):\", data)"
      ]
    },
    {
      "cell_type": "code",
      "execution_count": null,
      "id": "ef0835bc",
      "metadata": {
        "id": "ef0835bc",
        "outputId": "f2af1935-3c8a-4a76-ff65-89dc754b6c5a"
      },
      "outputs": [
        {
          "name": "stdout",
          "output_type": "stream",
          "text": [
            "As integers: [10, 20, 3, 0, None, None, None]\n"
          ]
        }
      ],
      "source": [
        "# Convert to integers (where possible)\n",
        "\n",
        "int_list = []\n",
        "for item in data:\n",
        "    try:\n",
        "        int_list.append(int(float(item)))  # convert via float to handle \"3.5\"\n",
        "    except ValueError:\n",
        "        int_list.append(None)  # mark unconvertible items\n",
        "print(\"As integers:\", int_list)"
      ]
    },
    {
      "cell_type": "code",
      "execution_count": null,
      "id": "2df7577b",
      "metadata": {
        "id": "2df7577b",
        "outputId": "b84fb257-9eba-43a3-d006-a89ab36b886d"
      },
      "outputs": [
        {
          "name": "stdout",
          "output_type": "stream",
          "text": [
            "As floats: [10.0, 20.0, 3.5, 0.0, None, None, None]\n"
          ]
        }
      ],
      "source": [
        "# Convert to floats\n",
        "\n",
        "\n",
        "float_list = []\n",
        "for item in data:\n",
        "    try:\n",
        "        float_list.append(float(item))\n",
        "    except ValueError:\n",
        "        float_list.append(None)\n",
        "print(\"As floats:\", float_list)\n",
        "\n"
      ]
    },
    {
      "cell_type": "code",
      "execution_count": null,
      "id": "5fd50c0b",
      "metadata": {
        "id": "5fd50c0b",
        "outputId": "514a709d-a675-4219-f722-433a33392b1e"
      },
      "outputs": [
        {
          "name": "stdout",
          "output_type": "stream",
          "text": [
            "As booleans: [True, True, True, True, False, True, True]\n"
          ]
        }
      ],
      "source": [
        "# Convert to booleans\n",
        "\n",
        "\n",
        "# Rule: bool(\"\") → False, everything else → True\n",
        "bool_list = [bool(item) for item in data]\n",
        "print(\"As booleans:\", bool_list)"
      ]
    },
    {
      "cell_type": "code",
      "execution_count": null,
      "id": "7cd72b29",
      "metadata": {
        "id": "7cd72b29",
        "outputId": "d71b830c-1f77-4035-b69c-c5906d95a468"
      },
      "outputs": [
        {
          "name": "stdout",
          "output_type": "stream",
          "text": [
            "25.0 is Positive.\n"
          ]
        }
      ],
      "source": [
        "#11. Write a program that checks if a number is positive, negative, or zero.\n",
        "\n",
        "num = float(input(\"Enter a number: \"))\n",
        "\n",
        "# Check conditions\n",
        "if num > 0:\n",
        "    print(f\"{num} is Positive.\")\n",
        "elif num < 0:\n",
        "    print(f\"{num} is Negative.\")\n",
        "else:\n",
        "    print(\"The number is Zero.\")\n"
      ]
    },
    {
      "cell_type": "code",
      "execution_count": null,
      "id": "1f9b2b30",
      "metadata": {
        "id": "1f9b2b30",
        "outputId": "b5d8f8f6-38cc-47eb-d635-b0f705460e08"
      },
      "outputs": [
        {
          "name": "stdout",
          "output_type": "stream",
          "text": [
            "1\n",
            "2\n",
            "3\n",
            "4\n",
            "5\n",
            "6\n",
            "7\n",
            "8\n",
            "9\n",
            "10\n"
          ]
        }
      ],
      "source": [
        "#12. Write a for loop to print numbers from 1 to 10.\n",
        "\n",
        "\n",
        "for i in range(1, 11):\n",
        "    print(i)"
      ]
    },
    {
      "cell_type": "code",
      "execution_count": null,
      "id": "0919aec9",
      "metadata": {
        "id": "0919aec9",
        "outputId": "87fc6e67-9d9f-45c1-d746-6e9236accb45"
      },
      "outputs": [
        {
          "name": "stdout",
          "output_type": "stream",
          "text": [
            "Sum of even numbers between 1 and 50 is: 650\n"
          ]
        }
      ],
      "source": [
        "# 13. Write a Python program to find the sum of all even numbers between 1 and 50\n",
        "\n",
        "\n",
        "total = 0\n",
        "\n",
        "for i in range(1, 51):   # numbers from 1 to 50\n",
        "    if i % 2 == 0:       # check if even\n",
        "        total += i\n",
        "\n",
        "print(\"Sum of even numbers between 1 and 50 is:\", total)"
      ]
    },
    {
      "cell_type": "code",
      "execution_count": null,
      "id": "ecc80e03",
      "metadata": {
        "id": "ecc80e03",
        "outputId": "d91f6c1a-44dd-43c3-8b73-feccfada136d"
      },
      "outputs": [
        {
          "name": "stdout",
          "output_type": "stream",
          "text": [
            "Reversed string: maR\n"
          ]
        }
      ],
      "source": [
        "# 14. Write a program to reverse a string using a while loop\n",
        "\n",
        "\n",
        "text = input(\"Enter a string: \")\n",
        "reversed_text = \"\"\n",
        "index = len(text) - 1\n",
        "while index >= 0:\n",
        "    reversed_text += text[index]\n",
        "    index -= 1\n",
        "\n",
        "print(\"Reversed string:\", reversed_text)"
      ]
    },
    {
      "cell_type": "code",
      "execution_count": null,
      "id": "884ebef0",
      "metadata": {
        "id": "884ebef0",
        "outputId": "03371b98-6a06-4584-fb45-cfe686331ff0"
      },
      "outputs": [
        {
          "name": "stdout",
          "output_type": "stream",
          "text": [
            "The factorial of 25 is: 15511210043330985984000000\n"
          ]
        }
      ],
      "source": [
        "# 15. Write a Python program to calculate the factorial of a number provided by the user using a while loop\n",
        "\n",
        "num = int(input(\"Enter a non-negative integer: \"))\n",
        "factorial = 1\n",
        "if num < 0:\n",
        "    print(\"Factorial is not defined for negative numbers.\")\n",
        "else:\n",
        "    i = 1\n",
        "    while i <= num:\n",
        "        factorial *= i\n",
        "        i += 1\n",
        "    print(f\"The factorial of {num} is: {factorial}\")\n",
        "\n"
      ]
    }
  ],
  "metadata": {
    "kernelspec": {
      "display_name": "Python 3",
      "language": "python",
      "name": "python3"
    },
    "language_info": {
      "codemirror_mode": {
        "name": "ipython",
        "version": 3
      },
      "file_extension": ".py",
      "mimetype": "text/x-python",
      "name": "python",
      "nbconvert_exporter": "python",
      "pygments_lexer": "ipython3",
      "version": "3.12.10"
    },
    "colab": {
      "provenance": [],
      "toc_visible": true
    }
  },
  "nbformat": 4,
  "nbformat_minor": 5
}